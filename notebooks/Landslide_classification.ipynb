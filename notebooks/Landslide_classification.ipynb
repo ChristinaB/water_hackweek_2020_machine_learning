{
 "cells": [
  {
   "cell_type": "markdown",
   "metadata": {},
   "source": [
    "# Introduction to Scikit-learn"
   ]
  },
  {
   "cell_type": "code",
   "execution_count": 1,
   "metadata": {},
   "outputs": [],
   "source": [
    "import matplotlib.pyplot as plt\n",
    "import numpy as np\n",
    "import pandas as pd\n",
    "import sklearn"
   ]
  },
  {
   "cell_type": "code",
   "execution_count": 2,
   "metadata": {},
   "outputs": [
    {
     "name": "stderr",
     "output_type": "stream",
     "text": [
      "/home/andy/anaconda3/envs/sklearndev/lib/python3.8/site-packages/numpy/lib/arraysetops.py:569: FutureWarning: elementwise comparison failed; returning scalar instead, but in the future will perform elementwise comparison\n",
      "  mask |= (ar1 == a)\n"
     ]
    },
    {
     "data": {
      "text/html": [
       "<div>\n",
       "<style scoped>\n",
       "    .dataframe tbody tr th:only-of-type {\n",
       "        vertical-align: middle;\n",
       "    }\n",
       "\n",
       "    .dataframe tbody tr th {\n",
       "        vertical-align: top;\n",
       "    }\n",
       "\n",
       "    .dataframe thead th {\n",
       "        text-align: right;\n",
       "    }\n",
       "</style>\n",
       "<table border=\"1\" class=\"dataframe\">\n",
       "  <thead>\n",
       "    <tr style=\"text-align: right;\">\n",
       "      <th></th>\n",
       "      <th>LS_type</th>\n",
       "      <th>DA_area</th>\n",
       "      <th>prob_inh</th>\n",
       "      <th>prob_dyn</th>\n",
       "      <th>slope_tan</th>\n",
       "      <th>elevation</th>\n",
       "      <th>curvature</th>\n",
       "      <th>aspect</th>\n",
       "      <th>wet_index</th>\n",
       "      <th>litho</th>\n",
       "      <th>lulc</th>\n",
       "    </tr>\n",
       "  </thead>\n",
       "  <tbody>\n",
       "    <tr>\n",
       "      <th>3970</th>\n",
       "      <td>8.0</td>\n",
       "      <td>3.0</td>\n",
       "      <td>0.0156</td>\n",
       "      <td>0.000</td>\n",
       "      <td>0.951556</td>\n",
       "      <td>2180.698</td>\n",
       "      <td>4.515543</td>\n",
       "      <td>80.28688</td>\n",
       "      <td>3.450854</td>\n",
       "      <td>5.0</td>\n",
       "      <td>71.0</td>\n",
       "    </tr>\n",
       "    <tr>\n",
       "      <th>3971</th>\n",
       "      <td>8.0</td>\n",
       "      <td>3.0</td>\n",
       "      <td>0.0124</td>\n",
       "      <td>0.000</td>\n",
       "      <td>1.093501</td>\n",
       "      <td>2166.145</td>\n",
       "      <td>3.625163</td>\n",
       "      <td>52.44894</td>\n",
       "      <td>3.311813</td>\n",
       "      <td>5.0</td>\n",
       "      <td>71.0</td>\n",
       "    </tr>\n",
       "    <tr>\n",
       "      <th>3972</th>\n",
       "      <td>8.0</td>\n",
       "      <td>3.0</td>\n",
       "      <td>0.0222</td>\n",
       "      <td>0.000</td>\n",
       "      <td>0.690770</td>\n",
       "      <td>2140.360</td>\n",
       "      <td>-1.464627</td>\n",
       "      <td>40.48208</td>\n",
       "      <td>4.597811</td>\n",
       "      <td>5.0</td>\n",
       "      <td>71.0</td>\n",
       "    </tr>\n",
       "    <tr>\n",
       "      <th>3973</th>\n",
       "      <td>8.0</td>\n",
       "      <td>3.0</td>\n",
       "      <td>0.0304</td>\n",
       "      <td>0.596</td>\n",
       "      <td>0.407125</td>\n",
       "      <td>2127.395</td>\n",
       "      <td>-1.632731</td>\n",
       "      <td>29.35348</td>\n",
       "      <td>5.113264</td>\n",
       "      <td>5.0</td>\n",
       "      <td>31.0</td>\n",
       "    </tr>\n",
       "    <tr>\n",
       "      <th>3975</th>\n",
       "      <td>8.0</td>\n",
       "      <td>3.0</td>\n",
       "      <td>0.0222</td>\n",
       "      <td>0.000</td>\n",
       "      <td>0.349647</td>\n",
       "      <td>2114.717</td>\n",
       "      <td>0.455268</td>\n",
       "      <td>51.53106</td>\n",
       "      <td>4.885499</td>\n",
       "      <td>5.0</td>\n",
       "      <td>52.0</td>\n",
       "    </tr>\n",
       "  </tbody>\n",
       "</table>\n",
       "</div>"
      ],
      "text/plain": [
       "      LS_type  DA_area  prob_inh  prob_dyn  slope_tan  elevation  curvature  \\\n",
       "3970      8.0      3.0    0.0156     0.000   0.951556   2180.698   4.515543   \n",
       "3971      8.0      3.0    0.0124     0.000   1.093501   2166.145   3.625163   \n",
       "3972      8.0      3.0    0.0222     0.000   0.690770   2140.360  -1.464627   \n",
       "3973      8.0      3.0    0.0304     0.596   0.407125   2127.395  -1.632731   \n",
       "3975      8.0      3.0    0.0222     0.000   0.349647   2114.717   0.455268   \n",
       "\n",
       "        aspect  wet_index  litho  lulc  \n",
       "3970  80.28688   3.450854    5.0  71.0  \n",
       "3971  52.44894   3.311813    5.0  71.0  \n",
       "3972  40.48208   4.597811    5.0  71.0  \n",
       "3973  29.35348   5.113264    5.0  31.0  \n",
       "3975  51.53106   4.885499    5.0  52.0  "
      ]
     },
     "execution_count": 2,
     "metadata": {},
     "output_type": "execute_result"
    }
   ],
   "source": [
    "from sklearn.model_selection import train_test_split\n",
    "\n",
    "data_raw = pd.read_csv(\"ROC_data.csv\", index_col=0)\n",
    "data_raw.head()"
   ]
  },
  {
   "cell_type": "code",
   "execution_count": 3,
   "metadata": {},
   "outputs": [],
   "source": [
    "data = data_raw.copy()\n",
    "LS_type_mapping = {8: \"No landslides\", 1: \"Fall/Topple\", 2: \"Torrent\",   3: \"Avalanche\", 4: \"Slump/Creep\", 5: \"Sackung\"}\n",
    "DA_area_mapping = {1: \"runout\", 2: \"source\", 3: \"other\"}\n",
    "lithology_mapping = {1: 'Unconsolidated Sediment', 2: 'Ultrabasic rock', 3: 'Weak Metamorphic Foliated',\n",
    "                     4: 'Sedimentary Rock', 5: 'Hard Metamorphic', 6: 'Intrusive Igneous',\n",
    "                     7: 'Volcanic/Extrusive Igneous'}\n",
    "LULC_mapping = {71: \"Herbaceous\", 52: \"Shrubland\", 41: \"Forest\", 31: \"Barren\",  21: \"Developed\"}\n",
    "\n",
    "data['LS_type'] = data_raw.LS_type.map(LS_type_mapping)\n",
    "data['DA_area'] = data_raw.DA_area.map(DA_area_mapping)\n",
    "data['litho'] = data_raw.litho.map(lithology_mapping)\n",
    "data['lulc'] = data_raw.lulc.map(LULC_mapping)"
   ]
  },
  {
   "cell_type": "code",
   "execution_count": 4,
   "metadata": {},
   "outputs": [
    {
     "data": {
      "text/html": [
       "<div>\n",
       "<style scoped>\n",
       "    .dataframe tbody tr th:only-of-type {\n",
       "        vertical-align: middle;\n",
       "    }\n",
       "\n",
       "    .dataframe tbody tr th {\n",
       "        vertical-align: top;\n",
       "    }\n",
       "\n",
       "    .dataframe thead th {\n",
       "        text-align: right;\n",
       "    }\n",
       "</style>\n",
       "<table border=\"1\" class=\"dataframe\">\n",
       "  <thead>\n",
       "    <tr style=\"text-align: right;\">\n",
       "      <th></th>\n",
       "      <th>LS_type</th>\n",
       "      <th>DA_area</th>\n",
       "      <th>prob_inh</th>\n",
       "      <th>prob_dyn</th>\n",
       "      <th>slope_tan</th>\n",
       "      <th>elevation</th>\n",
       "      <th>curvature</th>\n",
       "      <th>aspect</th>\n",
       "      <th>wet_index</th>\n",
       "      <th>litho</th>\n",
       "      <th>lulc</th>\n",
       "    </tr>\n",
       "  </thead>\n",
       "  <tbody>\n",
       "    <tr>\n",
       "      <th>3970</th>\n",
       "      <td>No landslides</td>\n",
       "      <td>other</td>\n",
       "      <td>0.0156</td>\n",
       "      <td>0.000</td>\n",
       "      <td>0.951556</td>\n",
       "      <td>2180.698</td>\n",
       "      <td>4.515543</td>\n",
       "      <td>80.28688</td>\n",
       "      <td>3.450854</td>\n",
       "      <td>Hard Metamorphic</td>\n",
       "      <td>Herbaceous</td>\n",
       "    </tr>\n",
       "    <tr>\n",
       "      <th>3971</th>\n",
       "      <td>No landslides</td>\n",
       "      <td>other</td>\n",
       "      <td>0.0124</td>\n",
       "      <td>0.000</td>\n",
       "      <td>1.093501</td>\n",
       "      <td>2166.145</td>\n",
       "      <td>3.625163</td>\n",
       "      <td>52.44894</td>\n",
       "      <td>3.311813</td>\n",
       "      <td>Hard Metamorphic</td>\n",
       "      <td>Herbaceous</td>\n",
       "    </tr>\n",
       "    <tr>\n",
       "      <th>3972</th>\n",
       "      <td>No landslides</td>\n",
       "      <td>other</td>\n",
       "      <td>0.0222</td>\n",
       "      <td>0.000</td>\n",
       "      <td>0.690770</td>\n",
       "      <td>2140.360</td>\n",
       "      <td>-1.464627</td>\n",
       "      <td>40.48208</td>\n",
       "      <td>4.597811</td>\n",
       "      <td>Hard Metamorphic</td>\n",
       "      <td>Herbaceous</td>\n",
       "    </tr>\n",
       "    <tr>\n",
       "      <th>3973</th>\n",
       "      <td>No landslides</td>\n",
       "      <td>other</td>\n",
       "      <td>0.0304</td>\n",
       "      <td>0.596</td>\n",
       "      <td>0.407125</td>\n",
       "      <td>2127.395</td>\n",
       "      <td>-1.632731</td>\n",
       "      <td>29.35348</td>\n",
       "      <td>5.113264</td>\n",
       "      <td>Hard Metamorphic</td>\n",
       "      <td>Barren</td>\n",
       "    </tr>\n",
       "    <tr>\n",
       "      <th>3975</th>\n",
       "      <td>No landslides</td>\n",
       "      <td>other</td>\n",
       "      <td>0.0222</td>\n",
       "      <td>0.000</td>\n",
       "      <td>0.349647</td>\n",
       "      <td>2114.717</td>\n",
       "      <td>0.455268</td>\n",
       "      <td>51.53106</td>\n",
       "      <td>4.885499</td>\n",
       "      <td>Hard Metamorphic</td>\n",
       "      <td>Shrubland</td>\n",
       "    </tr>\n",
       "  </tbody>\n",
       "</table>\n",
       "</div>"
      ],
      "text/plain": [
       "            LS_type DA_area  prob_inh  prob_dyn  slope_tan  elevation  \\\n",
       "3970  No landslides   other    0.0156     0.000   0.951556   2180.698   \n",
       "3971  No landslides   other    0.0124     0.000   1.093501   2166.145   \n",
       "3972  No landslides   other    0.0222     0.000   0.690770   2140.360   \n",
       "3973  No landslides   other    0.0304     0.596   0.407125   2127.395   \n",
       "3975  No landslides   other    0.0222     0.000   0.349647   2114.717   \n",
       "\n",
       "      curvature    aspect  wet_index             litho        lulc  \n",
       "3970   4.515543  80.28688   3.450854  Hard Metamorphic  Herbaceous  \n",
       "3971   3.625163  52.44894   3.311813  Hard Metamorphic  Herbaceous  \n",
       "3972  -1.464627  40.48208   4.597811  Hard Metamorphic  Herbaceous  \n",
       "3973  -1.632731  29.35348   5.113264  Hard Metamorphic      Barren  \n",
       "3975   0.455268  51.53106   4.885499  Hard Metamorphic   Shrubland  "
      ]
     },
     "execution_count": 4,
     "metadata": {},
     "output_type": "execute_result"
    }
   ],
   "source": [
    "data.head()"
   ]
  },
  {
   "cell_type": "code",
   "execution_count": null,
   "metadata": {},
   "outputs": [],
   "source": [
    "data.shape"
   ]
  },
  {
   "cell_type": "code",
   "execution_count": 6,
   "metadata": {},
   "outputs": [
    {
     "data": {
      "text/plain": [
       "No landslides    2333568\n",
       "Avalanche          44094\n",
       "Fall/Topple        30908\n",
       "Torrent             1721\n",
       "Slump/Creep          248\n",
       "Sackung               13\n",
       "Name: LS_type, dtype: int64"
      ]
     },
     "execution_count": 6,
     "metadata": {},
     "output_type": "execute_result"
    }
   ],
   "source": [
    "data.LS_type.value_counts()"
   ]
  },
  {
   "cell_type": "code",
   "execution_count": 9,
   "metadata": {},
   "outputs": [
    {
     "data": {
      "text/plain": [
       "LS_type      False\n",
       "DA_area      False\n",
       "prob_inh      True\n",
       "prob_dyn      True\n",
       "slope_tan     True\n",
       "elevation     True\n",
       "curvature     True\n",
       "aspect        True\n",
       "wet_index     True\n",
       "litho        False\n",
       "lulc         False\n",
       "dtype: bool"
      ]
     },
     "execution_count": 9,
     "metadata": {},
     "output_type": "execute_result"
    }
   ],
   "source": [
    "continuous = data.dtypes == float\n",
    "continuous"
   ]
  },
  {
   "cell_type": "code",
   "execution_count": null,
   "metadata": {},
   "outputs": [],
   "source": [
    "import seaborn as sns\n",
    "sns.pairplot(data, hue='LS_type')"
   ]
  },
  {
   "cell_type": "code",
   "execution_count": null,
   "metadata": {},
   "outputs": [],
   "source": [
    "X = data.drop('LS_type', axis=1)\n",
    "y = data['LS_type']\n",
    "\n",
    "\n",
    "X_train, X_test, y_train, y_test = train_test_split(\n",
    "    X, y, random_state=0)"
   ]
  },
  {
   "cell_type": "code",
   "execution_count": null,
   "metadata": {},
   "outputs": [],
   "source": [
    "X_train.shape"
   ]
  },
  {
   "cell_type": "code",
   "execution_count": null,
   "metadata": {},
   "outputs": [],
   "source": [
    "y_train.value_counts()"
   ]
  },
  {
   "cell_type": "code",
   "execution_count": null,
   "metadata": {},
   "outputs": [],
   "source": [
    "pd.Series(y_train).value_counts() / len(y_train)"
   ]
  },
  {
   "cell_type": "markdown",
   "metadata": {},
   "source": [
    "Really Simple API\n",
    "-------------------\n",
    "0) Import your model class"
   ]
  },
  {
   "cell_type": "code",
   "execution_count": null,
   "metadata": {},
   "outputs": [],
   "source": [
    "from sklearn.linear_model import LogisticRegression"
   ]
  },
  {
   "cell_type": "markdown",
   "metadata": {},
   "source": [
    "1) Instantiate an object and set the parameters"
   ]
  },
  {
   "cell_type": "code",
   "execution_count": null,
   "metadata": {},
   "outputs": [],
   "source": [
    "logreg = LogisticRegression()"
   ]
  },
  {
   "cell_type": "markdown",
   "metadata": {},
   "source": [
    "2) Fit the model"
   ]
  },
  {
   "cell_type": "code",
   "execution_count": null,
   "metadata": {},
   "outputs": [],
   "source": [
    "logreg.fit(X_train, y_train)"
   ]
  },
  {
   "cell_type": "markdown",
   "metadata": {},
   "source": [
    "3) Apply / evaluate"
   ]
  },
  {
   "cell_type": "code",
   "execution_count": null,
   "metadata": {},
   "outputs": [],
   "source": [
    "print(logreg.predict(X_train[:10]))"
   ]
  },
  {
   "cell_type": "code",
   "execution_count": null,
   "metadata": {},
   "outputs": [],
   "source": [
    "logreg.score(X_train, y_train)"
   ]
  },
  {
   "cell_type": "code",
   "execution_count": null,
   "metadata": {},
   "outputs": [],
   "source": [
    "logreg.score(X_test, y_test)"
   ]
  },
  {
   "cell_type": "markdown",
   "metadata": {},
   "source": [
    "And again\n",
    "---------"
   ]
  },
  {
   "cell_type": "code",
   "execution_count": null,
   "metadata": {},
   "outputs": [],
   "source": [
    "from sklearn.ensemble import RandomForestClassifier"
   ]
  },
  {
   "cell_type": "code",
   "execution_count": null,
   "metadata": {},
   "outputs": [],
   "source": [
    "rf = RandomForestClassifier(n_estimators=1000)"
   ]
  },
  {
   "cell_type": "code",
   "execution_count": null,
   "metadata": {},
   "outputs": [],
   "source": [
    "rf.fit(X_train, y_train)"
   ]
  },
  {
   "cell_type": "code",
   "execution_count": null,
   "metadata": {},
   "outputs": [],
   "source": [
    "rf.score(X_train, y_train)"
   ]
  },
  {
   "cell_type": "code",
   "execution_count": null,
   "metadata": {},
   "outputs": [],
   "source": [
    "rf.score(X_test, y_test)"
   ]
  },
  {
   "cell_type": "markdown",
   "metadata": {},
   "source": [
    "# Uploading data to OpenML"
   ]
  },
  {
   "cell_type": "code",
   "execution_count": null,
   "metadata": {},
   "outputs": [],
   "source": [
    "import openml"
   ]
  },
  {
   "cell_type": "code",
   "execution_count": null,
   "metadata": {},
   "outputs": [],
   "source": []
  }
 ],
 "metadata": {
  "anaconda-cloud": {},
  "kernelspec": {
   "display_name": "Python 3",
   "language": "python",
   "name": "python3"
  },
  "language_info": {
   "codemirror_mode": {
    "name": "ipython",
    "version": 3
   },
   "file_extension": ".py",
   "mimetype": "text/x-python",
   "name": "python",
   "nbconvert_exporter": "python",
   "pygments_lexer": "ipython3",
   "version": "3.8.3"
  }
 },
 "nbformat": 4,
 "nbformat_minor": 4
}
